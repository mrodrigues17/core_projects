{
 "cells": [
  {
   "attachments": {},
   "cell_type": "markdown",
   "metadata": {},
   "source": [
    "# Linear regression without using Sklearn using batch gradient descent\n",
    "Linear regression is one of the simplest machine learning models, but understanding the algorithm lays the foundation for understanding more complex algorithms. In a machine learning context, the algorithm can be broken down into the following steps:\n",
    "- Create a cost function\n",
    "- Find the derivative of the cost function\n",
    "- Apply gradient descent to optimize the parameters\n",
    "- Take the dot product of the test features and the optimized parameters to find the predicted target values\n",
    "\n",
    "All machine learning models involve minimizing some cost function, and this is generally done with gradient descent. Gradient descent is an iterative process where the parameters are gradually tuned by finding the derivative of the cost function which gives us the direction of greatest descent of the cost function. In this tutorial, I will show the steps to build a linear regression model without relying on prebuilt machine learning packages."
   ]
  },
  {
   "cell_type": "code",
   "execution_count": 411,
   "metadata": {},
   "outputs": [],
   "source": [
    "import pandas as pd\n",
    "import numpy as np\n",
    "import matplotlib.pyplot as plt\n",
    "import random"
   ]
  },
  {
   "attachments": {},
   "cell_type": "markdown",
   "metadata": {},
   "source": []
  },
  {
   "cell_type": "code",
   "execution_count": 412,
   "metadata": {},
   "outputs": [
    {
     "data": {
      "text/html": [
       "<div>\n",
       "<style scoped>\n",
       "    .dataframe tbody tr th:only-of-type {\n",
       "        vertical-align: middle;\n",
       "    }\n",
       "\n",
       "    .dataframe tbody tr th {\n",
       "        vertical-align: top;\n",
       "    }\n",
       "\n",
       "    .dataframe thead th {\n",
       "        text-align: right;\n",
       "    }\n",
       "</style>\n",
       "<table border=\"1\" class=\"dataframe\">\n",
       "  <thead>\n",
       "    <tr style=\"text-align: right;\">\n",
       "      <th></th>\n",
       "      <th>TV</th>\n",
       "      <th>Sales</th>\n",
       "    </tr>\n",
       "  </thead>\n",
       "  <tbody>\n",
       "    <tr>\n",
       "      <th>0</th>\n",
       "      <td>230.1</td>\n",
       "      <td>22.1</td>\n",
       "    </tr>\n",
       "    <tr>\n",
       "      <th>1</th>\n",
       "      <td>44.5</td>\n",
       "      <td>10.4</td>\n",
       "    </tr>\n",
       "    <tr>\n",
       "      <th>2</th>\n",
       "      <td>17.2</td>\n",
       "      <td>9.3</td>\n",
       "    </tr>\n",
       "    <tr>\n",
       "      <th>3</th>\n",
       "      <td>151.5</td>\n",
       "      <td>18.5</td>\n",
       "    </tr>\n",
       "    <tr>\n",
       "      <th>4</th>\n",
       "      <td>180.8</td>\n",
       "      <td>12.9</td>\n",
       "    </tr>\n",
       "  </tbody>\n",
       "</table>\n",
       "</div>"
      ],
      "text/plain": [
       "      TV  Sales\n",
       "0  230.1   22.1\n",
       "1   44.5   10.4\n",
       "2   17.2    9.3\n",
       "3  151.5   18.5\n",
       "4  180.8   12.9"
      ]
     },
     "execution_count": 412,
     "metadata": {},
     "output_type": "execute_result"
    }
   ],
   "source": [
    "data = pd.read_csv(\"data/tvmarketing.csv\")\n",
    "data.head()"
   ]
  },
  {
   "cell_type": "code",
   "execution_count": 413,
   "metadata": {},
   "outputs": [],
   "source": [
    "# split the data into train and test\n",
    "data = data.sample(frac = 1, random_state=42)\n",
    "train, test = data.iloc[0:int(len(data) * .8), :], data.iloc[int(len(data) * .8) + 1:, :]\n",
    "x_train, y_train = np.array(train.iloc[:, train.columns != 'Sales']), np.array(train['Sales'])\n",
    "x_test, y_test = np.array(test.iloc[:, test.columns != 'Sales']), np.array(test['Sales'])\n"
   ]
  },
  {
   "cell_type": "code",
   "execution_count": 414,
   "metadata": {},
   "outputs": [],
   "source": [
    "def least_squared_error(y_pred, y):\n",
    "    \"\"\"Calculates least squared error for a vector of predicted and actual target values\n",
    "    Parameters\n",
    "    ----------\n",
    "        y_pred: array\n",
    "            Predicted target values\n",
    "        y: array\n",
    "            Actual target values\n",
    "    Returns\n",
    "    -------\n",
    "     \n",
    "       the least squared error given a vector of predicted target values and actual target values\"\"\"\n",
    "    lsr = .5 * (y_pred - y)**2\n",
    "    return lsr"
   ]
  },
  {
   "cell_type": "code",
   "execution_count": 415,
   "metadata": {},
   "outputs": [],
   "source": [
    "def lr_cost_func(X, theta, y):\n",
    "    \"\"\"Calculates the cost function for linear regression\n",
    "     Parameters\n",
    "     ----------\n",
    "        X: matrix\n",
    "            The features used for prediction\n",
    "        theta: array\n",
    "            The coefficients multiplied against the features\n",
    "        y: array\n",
    "            The actual target values\n",
    "    Return\n",
    "    ------\n",
    "        cost: float\n",
    "            The value of the cost function for the given inputs\n",
    "    \"\"\"\n",
    "    cost = (1 / (2 * len(y))) * sum((np.dot(X, theta) - y)**2)\n",
    "    return cost"
   ]
  },
  {
   "cell_type": "code",
   "execution_count": 416,
   "metadata": {},
   "outputs": [],
   "source": [
    "def lr_cost_deriv(X, theta, j, y):\n",
    "    \"\"\"Calculates the derivative of the cost function for linear regression\n",
    "     Parameters\n",
    "     ----------\n",
    "        X: matrix\n",
    "            The features used for prediction\n",
    "        theta: array\n",
    "            An array of coefficients to optimize\n",
    "        j: int\n",
    "            Iterator to indicate which feature to calculate the partial derivative for\n",
    "        y: array\n",
    "            The target values\n",
    "    Return\n",
    "    ------\n",
    "        gradient: float\n",
    "            The derivative of the cost function\n",
    "    \"\"\"    \n",
    "    gradient = np.dot(np.dot(X, theta) - y, X[:, j])\n",
    "    return gradient\n"
   ]
  },
  {
   "cell_type": "code",
   "execution_count": 417,
   "metadata": {},
   "outputs": [],
   "source": [
    "def lr_gradient_descent(X, y, learning_rate, max_iter):\n",
    "    \"\"\"\n",
    "    Perfoms batch gradient descent algorithm and returns the optimized intercept and coefficients\n",
    "    Parameters\n",
    "    ----------\n",
    "        X: matrix\n",
    "            The matrix of features\n",
    "        y: array\n",
    "            Array of targets\n",
    "        learning_rate: float\n",
    "            Indicates size of steps taken during gradient descent. Large values may not converge, small values will take longer\n",
    "        max_iter: int\n",
    "            The number of iterations of gradient descent to take\n",
    "    Return\n",
    "    ------\n",
    "        intercept: float\n",
    "            The intercept for the linear regression model\n",
    "        coefs: aray\n",
    "            An array of coefficients that can be multiplied against the features\n",
    "    \"\"\"\n",
    "    theta = np.array([0.0 for i in range(X.shape[1])])\n",
    "    theta_temp = np.array([0.0 for i in range(X.shape[1])]) #initialize an array with zeros\n",
    "    for i in range(max_iter): \n",
    "        for j in range(len(theta)):\n",
    "            theta_temp[j] = theta[j] - learning_rate * (1 / (len(y))) * lr_cost_deriv(X=X, theta=theta, j=j, y=y)\n",
    "        theta = theta_temp\n",
    "    intercept = theta[0]\n",
    "    coefs = theta[1:]\n",
    "    return intercept, coefs\n",
    "\n",
    "x_train_int = np.insert(x_train, 0, 1, axis=1) # add a column of ones for the intercept\n",
    "intercept, coefs = lr_gradient_descent(x_train_int, y_train, .00001, 1000) \n",
    "y_pred = np.dot(x_test, coefs) + intercept # calculate predicted values on the test set"
   ]
  },
  {
   "cell_type": "code",
   "execution_count": 418,
   "metadata": {},
   "outputs": [
    {
     "data": {
      "image/png": "[encoded data removed]",
      "text/plain": [
       "<Figure size 1000x1000 with 1 Axes>"
      ]
     },
     "metadata": {},
     "output_type": "display_data"
    }
   ],
   "source": [
    "plt.figure(figsize=(10,10))\n",
    "plt.scatter(y_test, y_pred, c='crimson')\n",
    "\n",
    "p1 = max(max(y_pred), max(y_test))\n",
    "p2 = min(min(y_pred), min(y_test))\n",
    "plt.plot([p1, p2], [p1, p2], 'b-')\n",
    "plt.xlabel('True Values', fontsize=15)\n",
    "plt.ylabel('Predictions', fontsize=15)\n",
    "plt.axis('equal')\n",
    "plt.show()"
   ]
  }
 ],
 "metadata": {
  "kernelspec": {
   "display_name": "Python 3",
   "language": "python",
   "name": "python3"
  },
  "language_info": {
   "codemirror_mode": {
    "name": "ipython",
    "version": 3
   },
   "file_extension": ".py",
   "mimetype": "text/x-python",
   "name": "python",
   "nbconvert_exporter": "python",
   "pygments_lexer": "ipython3",
   "version": "3.10.0"
  },
  "orig_nbformat": 4
 },
 "nbformat": 4,
 "nbformat_minor": 2
}
