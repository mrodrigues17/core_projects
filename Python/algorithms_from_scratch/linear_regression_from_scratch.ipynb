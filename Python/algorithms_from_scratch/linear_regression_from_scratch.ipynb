{
 "cells": [
  {
   "attachments": {},
   "cell_type": "markdown",
   "metadata": {},
   "source": [
    "# Linear regression without using Sklearn using batch gradient descent\n",
    "Linear regression is one of the simplest machine learning models, but understanding the algorithm lays the foundation for understanding more complex algorithms. In a machine learning context, the algorithm can be broken down into the following steps:\n",
    "- Create a cost function\n",
    "- Find the derivative of the cost function\n",
    "- Apply gradient descent to optimize the parameters\n",
    "- Take the dot product of the test features and the optimized parameters to find the predicted target values\n",
    "\n",
    "All machine learning models involve minimizing some cost function, and this is generally done with gradient descent. Gradient descent is an iterative process where the parameters are gradually tuned by finding the derivative of the cost function which gives us the direction of greatest descent of the cost function. In this tutorial, I will show the steps to build a linear regression model without relying on prebuilt machine learning packages."
   ]
  },
  {
   "cell_type": "code",
   "execution_count": 398,
   "metadata": {},
   "outputs": [],
   "source": [
    "import pandas as pd\n",
    "import numpy as np\n",
    "import matplotlib.pyplot as plt\n",
    "import random"
   ]
  },
  {
   "cell_type": "markdown",
   "metadata": {},
   "source": []
  },
  {
   "cell_type": "code",
   "execution_count": 402,
   "metadata": {},
   "outputs": [
    {
     "data": {
      "text/html": [
       "<div>\n",
       "<style scoped>\n",
       "    .dataframe tbody tr th:only-of-type {\n",
       "        vertical-align: middle;\n",
       "    }\n",
       "\n",
       "    .dataframe tbody tr th {\n",
       "        vertical-align: top;\n",
       "    }\n",
       "\n",
       "    .dataframe thead th {\n",
       "        text-align: right;\n",
       "    }\n",
       "</style>\n",
       "<table border=\"1\" class=\"dataframe\">\n",
       "  <thead>\n",
       "    <tr style=\"text-align: right;\">\n",
       "      <th></th>\n",
       "      <th>TV</th>\n",
       "      <th>Sales</th>\n",
       "    </tr>\n",
       "  </thead>\n",
       "  <tbody>\n",
       "    <tr>\n",
       "      <th>0</th>\n",
       "      <td>230.1</td>\n",
       "      <td>22.1</td>\n",
       "    </tr>\n",
       "    <tr>\n",
       "      <th>1</th>\n",
       "      <td>44.5</td>\n",
       "      <td>10.4</td>\n",
       "    </tr>\n",
       "    <tr>\n",
       "      <th>2</th>\n",
       "      <td>17.2</td>\n",
       "      <td>9.3</td>\n",
       "    </tr>\n",
       "    <tr>\n",
       "      <th>3</th>\n",
       "      <td>151.5</td>\n",
       "      <td>18.5</td>\n",
       "    </tr>\n",
       "    <tr>\n",
       "      <th>4</th>\n",
       "      <td>180.8</td>\n",
       "      <td>12.9</td>\n",
       "    </tr>\n",
       "  </tbody>\n",
       "</table>\n",
       "</div>"
      ],
      "text/plain": [
       "      TV  Sales\n",
       "0  230.1   22.1\n",
       "1   44.5   10.4\n",
       "2   17.2    9.3\n",
       "3  151.5   18.5\n",
       "4  180.8   12.9"
      ]
     },
     "execution_count": 402,
     "metadata": {},
     "output_type": "execute_result"
    }
   ],
   "source": [
    "data = pd.read_csv(\"data/tvmarketing.csv\")\n",
    "data.head()"
   ]
  },
  {
   "cell_type": "code",
   "execution_count": 392,
   "metadata": {},
   "outputs": [],
   "source": [
    "# split the data into train and test\n",
    "data = data.sample(frac = 1, random_state=42)\n",
    "train, test = data.iloc[0:int(len(data) * .8), :], data.iloc[int(len(data) * .8) + 1:, :]\n",
    "x_train, y_train = np.array(train.iloc[:, train.columns != 'Sales']), np.array(train['Sales'])\n",
    "x_test, y_test = np.array(test.iloc[:, test.columns != 'Sales']), np.array(test['Sales'])\n"
   ]
  },
  {
   "cell_type": "code",
   "execution_count": 393,
   "metadata": {},
   "outputs": [],
   "source": [
    "def least_squared_error(y_pred, y):\n",
    "    \"\"\"Calculate least squared error given the predicted and actual y values\"\"\"\n",
    "    return .5 * (y_pred - y)**2"
   ]
  },
  {
   "cell_type": "code",
   "execution_count": 394,
   "metadata": {},
   "outputs": [],
   "source": [
    "def cost_func(X, theta, y):\n",
    "    \"\"\"The \"\"\"\n",
    "    return (1 / (2 * len(y))) * sum((np.dot(X, theta) - y)**2)"
   ]
  },
  {
   "cell_type": "code",
   "execution_count": 395,
   "metadata": {},
   "outputs": [],
   "source": [
    "def cost_deriv(X, coefs, j, y):\n",
    "    return np.dot(X[:, j], np.dot(X, coefs) - y)"
   ]
  },
  {
   "cell_type": "code",
   "execution_count": 396,
   "metadata": {},
   "outputs": [
    {
     "name": "stdout",
     "output_type": "stream",
     "text": [
      "62.29131110795907\n",
      "37.34149332076739\n",
      "24.665233111454047\n",
      "18.224792323211975\n",
      "14.952581313350272\n",
      "13.290051677556438\n",
      "12.4453525632038\n",
      "12.016168651635846\n",
      "11.798095716476572\n",
      "11.687282121380306\n",
      "11.630963946024364\n",
      "11.602333394808959\n",
      "11.587770200705503\n",
      "11.580354288712792\n",
      "11.576569755645261\n",
      "11.57463026071566\n",
      "11.573628205891627\n",
      "11.573102459093121\n",
      "11.572818726562657\n",
      "11.572657966047792\n",
      "11.57255969241836\n",
      "11.572493172599295\n",
      "11.572442790320354\n",
      "11.572400610194427\n",
      "11.572362599611086\n",
      "11.572326709094607\n",
      "11.572291896920083\n",
      "11.572257633498802\n",
      "11.572223649534733\n",
      "11.572189808044078\n",
      "11.57215603931359\n",
      "11.572122307841434\n",
      "11.57208859553127\n",
      "11.572054893146879\n",
      "11.57202119596572\n",
      "11.57198750156702\n",
      "11.571953808705675\n",
      "11.571920116738232\n",
      "11.571886425330048\n",
      "11.571852734305574\n",
      "11.57181904357172\n",
      "11.571785353078365\n",
      "11.571751662798054\n",
      "11.571717972715412\n",
      "11.571684282821634\n",
      "11.5716505931115\n",
      "11.571616903581845\n",
      "11.571583214230717\n",
      "11.571549525056822\n",
      "11.571515836059355\n"
     ]
    }
   ],
   "source": [
    "def gradient_descent(x_train, y_train, learning_rate):\n",
    "\n",
    "    theta = np.array([0.0 for i in range(x_train.shape[1])])\n",
    "    theta_temp = np.array([0.0 for i in range(x_train.shape[1])])\n",
    "    for i in range(50): \n",
    "        for j in range(len(theta)):\n",
    "            theta_temp[j] = theta[j] - learning_rate * (1 / (len(y_train))) * cost_deriv(X=x_train, coefs=theta, j=j, y=y_train)\n",
    "        theta = theta_temp\n",
    "    return theta\n",
    "\n",
    "x_train_int = np.insert(x_train, 0, 1, axis=1) \n",
    "theta = gradient_descent(x_train_int, y_train, .00001)\n",
    "intercept = theta[0]\n",
    "coefs = theta[1:]"
   ]
  },
  {
   "cell_type": "code",
   "execution_count": 400,
   "metadata": {},
   "outputs": [],
   "source": [
    "y_pred = np.dot(x_test, coefs) + intercept"
   ]
  },
  {
   "cell_type": "code",
   "execution_count": 401,
   "metadata": {},
   "outputs": [
    {
     "data": {
      "image/png": "[encoded data removed]",
      "text/plain": [
       "<Figure size 1000x1000 with 1 Axes>"
      ]
     },
     "metadata": {},
     "output_type": "display_data"
    }
   ],
   "source": [
    "plt.figure(figsize=(10,10))\n",
    "plt.scatter(y_test, y_pred, c='crimson')\n",
    "\n",
    "p1 = max(max(y_pred), max(y_test))\n",
    "p2 = min(min(y_pred), min(y_test))\n",
    "plt.plot([p1, p2], [p1, p2], 'b-')\n",
    "plt.xlabel('True Values', fontsize=15)\n",
    "plt.ylabel('Predictions', fontsize=15)\n",
    "plt.axis('equal')\n",
    "plt.show()"
   ]
  }
 ],
 "metadata": {
  "kernelspec": {
   "display_name": "Python 3",
   "language": "python",
   "name": "python3"
  },
  "language_info": {
   "codemirror_mode": {
    "name": "ipython",
    "version": 3
   },
   "file_extension": ".py",
   "mimetype": "text/x-python",
   "name": "python",
   "nbconvert_exporter": "python",
   "pygments_lexer": "ipython3",
   "version": "3.10.0"
  },
  "orig_nbformat": 4
 },
 "nbformat": 4,
 "nbformat_minor": 2
}
